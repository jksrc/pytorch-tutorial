{
  "nbformat": 4,
  "nbformat_minor": 0,
  "metadata": {
    "colab": {
      "name": "pytorch_quick_start.ipynb",
      "provenance": [],
      "include_colab_link": true
    },
    "kernelspec": {
      "name": "python3",
      "display_name": "Python 3"
    },
    "accelerator": "GPU"
  },
  "cells": [
    {
      "cell_type": "markdown",
      "metadata": {
        "id": "view-in-github",
        "colab_type": "text"
      },
      "source": [
        "<a href=\"https://colab.research.google.com/github/jksrc/pytorch-tutorial/blob/main/pytorch_nn_linreg.ipynb\" target=\"_parent\"><img src=\"https://colab.research.google.com/assets/colab-badge.svg\" alt=\"Open In Colab\"/></a>"
      ]
    },
    {
      "cell_type": "code",
      "source": [
        "!pip install torchviz"
      ],
      "metadata": {
        "id": "f5Kwz5qJP9VY",
        "outputId": "9e6a0fa9-f385-4775-91e4-58de25547a68",
        "colab": {
          "base_uri": "https://localhost:8080/"
        }
      },
      "execution_count": 3,
      "outputs": [
        {
          "output_type": "stream",
          "name": "stdout",
          "text": [
            "Looking in indexes: https://pypi.org/simple, https://us-python.pkg.dev/colab-wheels/public/simple/\n",
            "Collecting torchviz\n",
            "  Downloading torchviz-0.0.2.tar.gz (4.9 kB)\n",
            "  Preparing metadata (setup.py) ... \u001b[?25l\u001b[?25hdone\n",
            "Requirement already satisfied: torch in /usr/local/lib/python3.8/dist-packages (from torchviz) (1.13.1+cu116)\n",
            "Requirement already satisfied: graphviz in /usr/local/lib/python3.8/dist-packages (from torchviz) (0.10.1)\n",
            "Requirement already satisfied: typing-extensions in /usr/local/lib/python3.8/dist-packages (from torch->torchviz) (4.4.0)\n",
            "Building wheels for collected packages: torchviz\n",
            "  Building wheel for torchviz (setup.py) ... \u001b[?25l\u001b[?25hdone\n",
            "  Created wheel for torchviz: filename=torchviz-0.0.2-py3-none-any.whl size=4151 sha256=3744dcc80e2404fe31d768ee40941c44e0013223006a13bf650a3faa914eafb8\n",
            "  Stored in directory: /root/.cache/pip/wheels/05/7d/1b/8306781244e42ede119edbb053bdcda1c1f424ca226165a417\n",
            "Successfully built torchviz\n",
            "Installing collected packages: torchviz\n",
            "Successfully installed torchviz-0.0.2\n"
          ]
        }
      ]
    },
    {
      "cell_type": "code",
      "source": [
        "#%% packages\n",
        "import numpy as np\n",
        "import pandas as pd\n",
        "import torch\n",
        "import torch.nn as nn \n",
        "import seaborn as sns\n",
        "\n",
        "#%% data import\n",
        "cars_file = 'https://gist.githubusercontent.com/noamross/e5d3e859aa0c794be10b/raw/b999fb4425b54c63cab088c0ce2c0d6ce961a563/cars.csv'\n",
        "cars = pd.read_csv(cars_file)\n",
        "cars.head()\n",
        "\n",
        "#%% visualise the model\n",
        "sns.scatterplot(x='wt', y='mpg', data=cars)\n",
        "sns.regplot(x='wt', y='mpg', data=cars)\n",
        "\n",
        "#%% convert data to tensor\n",
        "X_list = cars.wt.values\n",
        "X_np = np.array(X_list, dtype=np.float32).reshape(-1,1)\n",
        "y_list = cars.mpg.values.tolist()\n",
        "y_np = np.array(y_list, dtype=np.float32).reshape(-1,1)\n",
        "X = torch.from_numpy(X_np)\n",
        "y = torch.tensor(y_list)\n",
        "\n",
        "\n",
        "#%% training\n",
        "w = torch.rand(1, requires_grad=True, dtype=torch.float64)\n",
        "b = torch.rand(1, requires_grad=True, dtype=torch.float64)\n",
        "\n",
        "num_epochs = 100\n",
        "learning_rate = 1e-3\n",
        "for epoch in range(num_epochs):\n",
        "  for i in range(len(X)):\n",
        "    # x, y = torch.tensor(X_list[i]), torch.tensor(y_list[i])\n",
        "    # forward pass\n",
        "    y_predict = X[i] * w + b\n",
        "    # calculate loss\n",
        "    loss_tensor = torch.pow(y_predict - y[i], 2)\n",
        "    # backward pass\n",
        "    loss_tensor.backward()\n",
        "    # extract losses\n",
        "    loss_value = loss_tensor.data[0]\n",
        "    # update weights and biases\n",
        "    with torch.no_grad():\n",
        "      w -= w.grad * learning_rate\n",
        "      b -= b.grad * learning_rate\n",
        "      w.grad.zero_()\n",
        "      b.grad.zero_()\n",
        "  print(loss_value)\n",
        "\n",
        "#%% check results\n",
        "print(f\"Weight: {w.item()}, Bias: {b.item()}\")\n",
        "# %%\n",
        "y_pred = (torch.tensor(X_list)*w+b).detach().numpy()\n",
        "# %%\n",
        "sns.scatterplot(x=X_list, y=y_list)\n",
        "sns.lineplot(x=X_list, y=y_pred, color='red')\n",
        "# %% (Statistical) Linear Regression\n",
        "from sklearn.linear_model import LinearRegression\n",
        "reg = LinearRegression().fit(X_np, y_list)\n",
        "print(f\"Slope: {reg.coef_}, Bias: {reg.intercept_}\")\n",
        "\n",
        "\n",
        "# %% create graph visualisation\n",
        "# make sure GraphViz is installed (https://graphviz.org/download/)\n",
        "# if not computer restarted, append directly to PATH variable\n",
        "import os\n",
        "from torchviz import make_dot\n",
        "os.environ['PATH'] += os.pathsep + 'C:/Program Files (x86)/Graphviz/bin'\n",
        "make_dot(loss_tensor)\n",
        "# %%"
      ],
      "metadata": {
        "id": "lyADBDPnPnyI",
        "outputId": "629adf68-4fb4-4088-dcc2-6d97a6636cb9",
        "colab": {
          "base_uri": "https://localhost:8080/",
          "height": 1000
        }
      },
      "execution_count": 4,
      "outputs": [
        {
          "output_type": "stream",
          "name": "stdout",
          "text": [
            "tensor(141.2665, dtype=torch.float64)\n",
            "tensor(76.0888, dtype=torch.float64)\n",
            "tensor(52.9120, dtype=torch.float64)\n",
            "tensor(43.5628, dtype=torch.float64)\n",
            "tensor(39.3986, dtype=torch.float64)\n",
            "tensor(37.3565, dtype=torch.float64)\n",
            "tensor(36.2277, dtype=torch.float64)\n",
            "tensor(35.5029, dtype=torch.float64)\n",
            "tensor(34.9603, dtype=torch.float64)\n",
            "tensor(34.5015, dtype=torch.float64)\n",
            "tensor(34.0826, dtype=torch.float64)\n",
            "tensor(33.6838, dtype=torch.float64)\n",
            "tensor(33.2963, dtype=torch.float64)\n",
            "tensor(32.9161, dtype=torch.float64)\n",
            "tensor(32.5413, dtype=torch.float64)\n",
            "tensor(32.1711, dtype=torch.float64)\n",
            "tensor(31.8051, dtype=torch.float64)\n",
            "tensor(31.4431, dtype=torch.float64)\n",
            "tensor(31.0850, dtype=torch.float64)\n",
            "tensor(30.7307, dtype=torch.float64)\n",
            "tensor(30.3802, dtype=torch.float64)\n",
            "tensor(30.0334, dtype=torch.float64)\n",
            "tensor(29.6902, dtype=torch.float64)\n",
            "tensor(29.3507, dtype=torch.float64)\n",
            "tensor(29.0148, dtype=torch.float64)\n",
            "tensor(28.6825, dtype=torch.float64)\n",
            "tensor(28.3537, dtype=torch.float64)\n",
            "tensor(28.0283, dtype=torch.float64)\n",
            "tensor(27.7065, dtype=torch.float64)\n",
            "tensor(27.3880, dtype=torch.float64)\n",
            "tensor(27.0730, dtype=torch.float64)\n",
            "tensor(26.7612, dtype=torch.float64)\n",
            "tensor(26.4529, dtype=torch.float64)\n",
            "tensor(26.1477, dtype=torch.float64)\n",
            "tensor(25.8459, dtype=torch.float64)\n",
            "tensor(25.5472, dtype=torch.float64)\n",
            "tensor(25.2518, dtype=torch.float64)\n",
            "tensor(24.9595, dtype=torch.float64)\n",
            "tensor(24.6703, dtype=torch.float64)\n",
            "tensor(24.3842, dtype=torch.float64)\n",
            "tensor(24.1011, dtype=torch.float64)\n",
            "tensor(23.8211, dtype=torch.float64)\n",
            "tensor(23.5441, dtype=torch.float64)\n",
            "tensor(23.2700, dtype=torch.float64)\n",
            "tensor(22.9989, dtype=torch.float64)\n",
            "tensor(22.7307, dtype=torch.float64)\n",
            "tensor(22.4653, dtype=torch.float64)\n",
            "tensor(22.2028, dtype=torch.float64)\n",
            "tensor(21.9431, dtype=torch.float64)\n",
            "tensor(21.6862, dtype=torch.float64)\n",
            "tensor(21.4321, dtype=torch.float64)\n",
            "tensor(21.1807, dtype=torch.float64)\n",
            "tensor(20.9319, dtype=torch.float64)\n",
            "tensor(20.6859, dtype=torch.float64)\n",
            "tensor(20.4425, dtype=torch.float64)\n",
            "tensor(20.2018, dtype=torch.float64)\n",
            "tensor(19.9636, dtype=torch.float64)\n",
            "tensor(19.7280, dtype=torch.float64)\n",
            "tensor(19.4949, dtype=torch.float64)\n",
            "tensor(19.2644, dtype=torch.float64)\n",
            "tensor(19.0363, dtype=torch.float64)\n",
            "tensor(18.8107, dtype=torch.float64)\n",
            "tensor(18.5876, dtype=torch.float64)\n",
            "tensor(18.3668, dtype=torch.float64)\n",
            "tensor(18.1485, dtype=torch.float64)\n",
            "tensor(17.9325, dtype=torch.float64)\n",
            "tensor(17.7188, dtype=torch.float64)\n",
            "tensor(17.5075, dtype=torch.float64)\n",
            "tensor(17.2984, dtype=torch.float64)\n",
            "tensor(17.0917, dtype=torch.float64)\n",
            "tensor(16.8872, dtype=torch.float64)\n",
            "tensor(16.6849, dtype=torch.float64)\n",
            "tensor(16.4847, dtype=torch.float64)\n",
            "tensor(16.2868, dtype=torch.float64)\n",
            "tensor(16.0911, dtype=torch.float64)\n",
            "tensor(15.8974, dtype=torch.float64)\n",
            "tensor(15.7059, dtype=torch.float64)\n",
            "tensor(15.5165, dtype=torch.float64)\n",
            "tensor(15.3291, dtype=torch.float64)\n",
            "tensor(15.1438, dtype=torch.float64)\n",
            "tensor(14.9605, dtype=torch.float64)\n",
            "tensor(14.7792, dtype=torch.float64)\n",
            "tensor(14.5999, dtype=torch.float64)\n",
            "tensor(14.4225, dtype=torch.float64)\n",
            "tensor(14.2471, dtype=torch.float64)\n",
            "tensor(14.0737, dtype=torch.float64)\n",
            "tensor(13.9021, dtype=torch.float64)\n",
            "tensor(13.7324, dtype=torch.float64)\n",
            "tensor(13.5646, dtype=torch.float64)\n",
            "tensor(13.3986, dtype=torch.float64)\n",
            "tensor(13.2344, dtype=torch.float64)\n",
            "tensor(13.0721, dtype=torch.float64)\n",
            "tensor(12.9115, dtype=torch.float64)\n",
            "tensor(12.7528, dtype=torch.float64)\n",
            "tensor(12.5957, dtype=torch.float64)\n",
            "tensor(12.4404, dtype=torch.float64)\n",
            "tensor(12.2868, dtype=torch.float64)\n",
            "tensor(12.1350, dtype=torch.float64)\n",
            "tensor(11.9848, dtype=torch.float64)\n",
            "tensor(11.8362, dtype=torch.float64)\n",
            "Weight: 0.9902843876283572, Bias: 15.266686794565851\n",
            "Slope: [-5.3444715], Bias: 37.285125732421875\n"
          ]
        },
        {
          "output_type": "execute_result",
          "data": {
            "text/plain": [
              "<graphviz.dot.Digraph at 0x7ff3391cb5b0>"
            ],
            "image/svg+xml": "<?xml version=\"1.0\" encoding=\"UTF-8\" standalone=\"no\"?>\n<!DOCTYPE svg PUBLIC \"-//W3C//DTD SVG 1.1//EN\"\n \"http://www.w3.org/Graphics/SVG/1.1/DTD/svg11.dtd\">\n<!-- Generated by graphviz version 2.43.0 (0)\n -->\n<!-- Title: %3 Pages: 1 -->\n<svg width=\"222pt\" height=\"393pt\"\n viewBox=\"0.00 0.00 222.00 393.00\" xmlns=\"http://www.w3.org/2000/svg\" xmlns:xlink=\"http://www.w3.org/1999/xlink\">\n<g id=\"graph0\" class=\"graph\" transform=\"scale(1 1) rotate(0) translate(4 389)\">\n<title>%3</title>\n<polygon fill=\"white\" stroke=\"transparent\" points=\"-4,4 -4,-389 218,-389 218,4 -4,4\"/>\n<!-- 140682747547376 -->\n<g id=\"node1\" class=\"node\">\n<title>140682747547376</title>\n<polygon fill=\"#caff70\" stroke=\"black\" points=\"133.5,-31 79.5,-31 79.5,0 133.5,0 133.5,-31\"/>\n<text text-anchor=\"middle\" x=\"106.5\" y=\"-7\" font-family=\"monospace\" font-size=\"10.00\"> (1)</text>\n</g>\n<!-- 140682611963360 -->\n<g id=\"node2\" class=\"node\">\n<title>140682611963360</title>\n<polygon fill=\"lightgrey\" stroke=\"black\" points=\"151,-86 62,-86 62,-67 151,-67 151,-86\"/>\n<text text-anchor=\"middle\" x=\"106.5\" y=\"-74\" font-family=\"monospace\" font-size=\"10.00\">PowBackward0</text>\n</g>\n<!-- 140682611963360&#45;&gt;140682747547376 -->\n<g id=\"edge8\" class=\"edge\">\n<title>140682611963360&#45;&gt;140682747547376</title>\n<path fill=\"none\" stroke=\"black\" d=\"M106.5,-66.79C106.5,-60.07 106.5,-50.4 106.5,-41.34\"/>\n<polygon fill=\"black\" stroke=\"black\" points=\"110,-41.19 106.5,-31.19 103,-41.19 110,-41.19\"/>\n</g>\n<!-- 140682611963408 -->\n<g id=\"node3\" class=\"node\">\n<title>140682611963408</title>\n<polygon fill=\"lightgrey\" stroke=\"black\" points=\"151,-141 62,-141 62,-122 151,-122 151,-141\"/>\n<text text-anchor=\"middle\" x=\"106.5\" y=\"-129\" font-family=\"monospace\" font-size=\"10.00\">SubBackward0</text>\n</g>\n<!-- 140682611963408&#45;&gt;140682611963360 -->\n<g id=\"edge1\" class=\"edge\">\n<title>140682611963408&#45;&gt;140682611963360</title>\n<path fill=\"none\" stroke=\"black\" d=\"M106.5,-121.75C106.5,-114.8 106.5,-104.85 106.5,-96.13\"/>\n<polygon fill=\"black\" stroke=\"black\" points=\"110,-96.09 106.5,-86.09 103,-96.09 110,-96.09\"/>\n</g>\n<!-- 140682611963504 -->\n<g id=\"node4\" class=\"node\">\n<title>140682611963504</title>\n<polygon fill=\"lightgrey\" stroke=\"black\" points=\"151,-196 62,-196 62,-177 151,-177 151,-196\"/>\n<text text-anchor=\"middle\" x=\"106.5\" y=\"-184\" font-family=\"monospace\" font-size=\"10.00\">AddBackward0</text>\n</g>\n<!-- 140682611963504&#45;&gt;140682611963408 -->\n<g id=\"edge2\" class=\"edge\">\n<title>140682611963504&#45;&gt;140682611963408</title>\n<path fill=\"none\" stroke=\"black\" d=\"M106.5,-176.75C106.5,-169.8 106.5,-159.85 106.5,-151.13\"/>\n<polygon fill=\"black\" stroke=\"black\" points=\"110,-151.09 106.5,-141.09 103,-151.09 110,-151.09\"/>\n</g>\n<!-- 140682611963600 -->\n<g id=\"node5\" class=\"node\">\n<title>140682611963600</title>\n<polygon fill=\"lightgrey\" stroke=\"black\" points=\"95,-251 6,-251 6,-232 95,-232 95,-251\"/>\n<text text-anchor=\"middle\" x=\"50.5\" y=\"-239\" font-family=\"monospace\" font-size=\"10.00\">MulBackward0</text>\n</g>\n<!-- 140682611963600&#45;&gt;140682611963504 -->\n<g id=\"edge3\" class=\"edge\">\n<title>140682611963600&#45;&gt;140682611963504</title>\n<path fill=\"none\" stroke=\"black\" d=\"M59.5,-231.98C67.69,-224.23 80.01,-212.58 89.97,-203.14\"/>\n<polygon fill=\"black\" stroke=\"black\" points=\"92.48,-205.59 97.34,-196.17 87.67,-200.5 92.48,-205.59\"/>\n</g>\n<!-- 140682611963744 -->\n<g id=\"node6\" class=\"node\">\n<title>140682611963744</title>\n<polygon fill=\"lightgrey\" stroke=\"black\" points=\"101,-312 0,-312 0,-293 101,-293 101,-312\"/>\n<text text-anchor=\"middle\" x=\"50.5\" y=\"-300\" font-family=\"monospace\" font-size=\"10.00\">AccumulateGrad</text>\n</g>\n<!-- 140682611963744&#45;&gt;140682611963600 -->\n<g id=\"edge4\" class=\"edge\">\n<title>140682611963744&#45;&gt;140682611963600</title>\n<path fill=\"none\" stroke=\"black\" d=\"M50.5,-292.79C50.5,-284.6 50.5,-272.06 50.5,-261.55\"/>\n<polygon fill=\"black\" stroke=\"black\" points=\"54,-261.24 50.5,-251.24 47,-261.24 54,-261.24\"/>\n</g>\n<!-- 140682612737984 -->\n<g id=\"node7\" class=\"node\">\n<title>140682612737984</title>\n<polygon fill=\"lightblue\" stroke=\"black\" points=\"77.5,-385 23.5,-385 23.5,-354 77.5,-354 77.5,-385\"/>\n<text text-anchor=\"middle\" x=\"50.5\" y=\"-361\" font-family=\"monospace\" font-size=\"10.00\"> (1)</text>\n</g>\n<!-- 140682612737984&#45;&gt;140682611963744 -->\n<g id=\"edge5\" class=\"edge\">\n<title>140682612737984&#45;&gt;140682611963744</title>\n<path fill=\"none\" stroke=\"black\" d=\"M50.5,-353.75C50.5,-344.39 50.5,-332.19 50.5,-322.16\"/>\n<polygon fill=\"black\" stroke=\"black\" points=\"54,-322.02 50.5,-312.02 47,-322.02 54,-322.02\"/>\n</g>\n<!-- 140682611963552 -->\n<g id=\"node8\" class=\"node\">\n<title>140682611963552</title>\n<polygon fill=\"lightgrey\" stroke=\"black\" points=\"214,-251 113,-251 113,-232 214,-232 214,-251\"/>\n<text text-anchor=\"middle\" x=\"163.5\" y=\"-239\" font-family=\"monospace\" font-size=\"10.00\">AccumulateGrad</text>\n</g>\n<!-- 140682611963552&#45;&gt;140682611963504 -->\n<g id=\"edge6\" class=\"edge\">\n<title>140682611963552&#45;&gt;140682611963504</title>\n<path fill=\"none\" stroke=\"black\" d=\"M154.34,-231.98C146,-224.23 133.47,-212.58 123.32,-203.14\"/>\n<polygon fill=\"black\" stroke=\"black\" points=\"125.53,-200.42 115.82,-196.17 120.76,-205.54 125.53,-200.42\"/>\n</g>\n<!-- 140682612737184 -->\n<g id=\"node9\" class=\"node\">\n<title>140682612737184</title>\n<polygon fill=\"lightblue\" stroke=\"black\" points=\"190.5,-318 136.5,-318 136.5,-287 190.5,-287 190.5,-318\"/>\n<text text-anchor=\"middle\" x=\"163.5\" y=\"-294\" font-family=\"monospace\" font-size=\"10.00\"> (1)</text>\n</g>\n<!-- 140682612737184&#45;&gt;140682611963552 -->\n<g id=\"edge7\" class=\"edge\">\n<title>140682612737184&#45;&gt;140682611963552</title>\n<path fill=\"none\" stroke=\"black\" d=\"M163.5,-286.92C163.5,-279.22 163.5,-269.69 163.5,-261.43\"/>\n<polygon fill=\"black\" stroke=\"black\" points=\"167,-261.25 163.5,-251.25 160,-261.25 167,-261.25\"/>\n</g>\n</g>\n</svg>\n"
          },
          "metadata": {},
          "execution_count": 4
        },
        {
          "output_type": "display_data",
          "data": {
            "text/plain": [
              "<Figure size 432x288 with 1 Axes>"
            ],
            "image/png": "[encoded data removed]"
          },
          "metadata": {
            "needs_background": "light"
          }
        }
      ]
    }
  ]
}